{
 "cells": [
  {
   "cell_type": "code",
   "execution_count": 1,
   "metadata": {
    "collapsed": true,
    "ExecuteTime": {
     "start_time": "2024-02-26T20:02:42.278706Z",
     "end_time": "2024-02-26T20:02:44.765443Z"
    }
   },
   "outputs": [
    {
     "name": "stderr",
     "output_type": "stream",
     "text": [
      "/Users/radubuzas/PycharmProjects/DigitDetection/venv/lib/python3.9/site-packages/urllib3/__init__.py:35: NotOpenSSLWarning: urllib3 v2 only supports OpenSSL 1.1.1+, currently the 'ssl' module is compiled with 'LibreSSL 2.8.3'. See: https://github.com/urllib3/urllib3/issues/3020\n",
      "  warnings.warn(\n"
     ]
    }
   ],
   "source": [
    "import numpy as np\n",
    "import tensorflow.keras.datasets as datasets\n",
    "import matplotlib.pyplot as plt"
   ]
  },
  {
   "cell_type": "code",
   "execution_count": 2,
   "outputs": [
    {
     "name": "stdout",
     "output_type": "stream",
     "text": [
      "(60000, 28, 28)\n"
     ]
    }
   ],
   "source": [
    "mnist = datasets.mnist\n",
    "(x_train, y_train), (x_test, y_test) = mnist.load_data()\n",
    "\n",
    "print(x_train.shape)"
   ],
   "metadata": {
    "collapsed": false,
    "ExecuteTime": {
     "start_time": "2024-02-26T20:02:44.766192Z",
     "end_time": "2024-02-26T20:02:44.841269Z"
    }
   }
  },
  {
   "cell_type": "code",
   "execution_count": 3,
   "outputs": [
    {
     "name": "stdout",
     "output_type": "stream",
     "text": [
      "(60000, 784)\n"
     ]
    }
   ],
   "source": [
    "n = x_train.shape[0]\n",
    "x_train = x_train.reshape(n, -1)\n",
    "x_train = x_train / 255\n",
    "\n",
    "x_test = x_test.reshape(x_test.shape[0], -1)\n",
    "x_test = x_test / 255\n",
    "\n",
    "print(x_train.shape)"
   ],
   "metadata": {
    "collapsed": false,
    "ExecuteTime": {
     "start_time": "2024-02-26T20:02:44.842006Z",
     "end_time": "2024-02-26T20:02:44.943990Z"
    }
   }
  },
  {
   "cell_type": "code",
   "execution_count": 4,
   "outputs": [
    {
     "name": "stdout",
     "output_type": "stream",
     "text": [
      "(10000, 784)\n"
     ]
    }
   ],
   "source": [
    "n = x_test.shape[0]\n",
    "x_test = x_test.reshape(n, -1)\n",
    "\n",
    "print(x_test.shape)"
   ],
   "metadata": {
    "collapsed": false,
    "ExecuteTime": {
     "start_time": "2024-02-26T20:02:44.944254Z",
     "end_time": "2024-02-26T20:02:44.946906Z"
    }
   }
  },
  {
   "cell_type": "code",
   "execution_count": 5,
   "outputs": [],
   "source": [
    "def sigmoid(x):\n",
    "    return 1 / (1 + np.exp(-x))"
   ],
   "metadata": {
    "collapsed": false,
    "ExecuteTime": {
     "start_time": "2024-02-26T20:02:44.948381Z",
     "end_time": "2024-02-26T20:02:44.950163Z"
    }
   }
  },
  {
   "cell_type": "code",
   "execution_count": 6,
   "outputs": [],
   "source": [
    "def sigmoid_derivative(x):\n",
    "    return sigmoid(x) * (1 - sigmoid(x))"
   ],
   "metadata": {
    "collapsed": false,
    "ExecuteTime": {
     "start_time": "2024-02-26T20:02:44.950625Z",
     "end_time": "2024-02-26T20:02:44.952550Z"
    }
   }
  },
  {
   "cell_type": "code",
   "execution_count": 7,
   "outputs": [],
   "source": [
    "def softmax(x):\n",
    "    e_x = np.exp(x - np.max(x))\n",
    "    return e_x / e_x.sum(axis=1, keepdims=True)"
   ],
   "metadata": {
    "collapsed": false,
    "ExecuteTime": {
     "start_time": "2024-02-26T20:02:44.953052Z",
     "end_time": "2024-02-26T20:02:44.955058Z"
    }
   }
  },
  {
   "cell_type": "code",
   "execution_count": 8,
   "outputs": [],
   "source": [
    "def one_hot(y):\n",
    "    n = y.shape[0]\n",
    "    k = np.max(y) + 1\n",
    "    y_one_hot = np.zeros((n, k))\n",
    "    y_one_hot[np.arange(n), y] = 1\n",
    "    return y_one_hot"
   ],
   "metadata": {
    "collapsed": false,
    "ExecuteTime": {
     "start_time": "2024-02-26T20:02:44.955936Z",
     "end_time": "2024-02-26T20:02:44.957555Z"
    }
   }
  },
  {
   "cell_type": "code",
   "execution_count": 9,
   "outputs": [],
   "source": [
    "class NN:\n",
    "    def __init__(self, x, y, alpha=0.01, epochs=1000, batch_size=100, architecture=(10, 10)):\n",
    "        self.Z1 = None\n",
    "        self.a1 = None\n",
    "        self.Z2 = None\n",
    "        self.a2 = None\n",
    "        self.x = x\n",
    "        self.y = y\n",
    "        self.alpha = alpha\n",
    "        self.epochs = epochs\n",
    "        self.batch_size = batch_size\n",
    "        self.first_layer = architecture[0]\n",
    "        self.second_layer = architecture[1]\n",
    "        self.W1 = np.random.randn(self.x.shape[1], self.first_layer)    # 784 x 10\n",
    "        self.b1 = np.random.randn(1, self.first_layer)                # 1 x 10\n",
    "        self.W2 = np.random.randn(self.first_layer, self.second_layer)\n",
    "        self.b2 = np.random.randn(1, self.second_layer)\n",
    "\n",
    "\n",
    "    def feedforward(self, x=None):\n",
    "        if x is None:\n",
    "            x = self.x\n",
    "        self.Z1 = np.dot(x, self.W1) + self.b1   # n x 784 * 784 x 10 + 1 x 10 = n x 10\n",
    "        self.a1 = sigmoid(self.Z1)                    # n x 10\n",
    "\n",
    "        self.Z2 = np.dot(self.a1, self.W2) + self.b2  # n x 10 * 10 x 10 + 1 x 10 = n x 10\n",
    "        self.a2 = softmax(self.Z2)                    # n x 10\n",
    "\n",
    "    def test_iamge(self, image: np.array) -> np.array:\n",
    "        self.feedforward(image)\n",
    "        return np.argmax(self.a2[0])\n",
    "\n",
    "    def backprop(self, alpha=0):\n",
    "        if alpha == 0:\n",
    "            alpha = self.alpha\n",
    "\n",
    "        n = self.y.shape[0]\n",
    "        one_hot_y = one_hot(self.y)\n",
    "\n",
    "        dZ2 = self.a2 - one_hot_y\n",
    "        dW2 = np.dot(self.a1.T, dZ2) / n\n",
    "        db2 = np.sum(dZ2, axis=0, keepdims=True) / n\n",
    "\n",
    "        dZ1 = np.dot(dZ2, self.W2.T) * sigmoid_derivative(self.Z1)\n",
    "\n",
    "        dW1 = np.dot(self.x.T, dZ1) / n\n",
    "        db1 = np.sum(dZ1, axis=0, keepdims=True) / n\n",
    "\n",
    "        self.W1 -= alpha * dW1\n",
    "        self.b1 -= alpha * db1\n",
    "        self.W2 -= alpha * dW2\n",
    "        self.b2 -= alpha * db2\n",
    "\n",
    "    def get_accuracy(self):\n",
    "        return np.mean(np.argmax(self.a2, 1) == self.y)\n",
    "    #\n",
    "    # def get_loss(self):\n",
    "    #     n = self.y.shape[0]\n",
    "    #     one_hot_y = one_hot(self.y)\n",
    "    #     return -np.sum(one_hot_y * np.log(self.a2)) / n\n",
    "\n",
    "    def SGD(self, alpha=0, epochs=0):\n",
    "        if alpha == 0:\n",
    "            alpha = self.alpha\n",
    "        if epochs == 0:\n",
    "            epochs = self.epochs\n",
    "        for i in range(epochs):\n",
    "            # for j in range(0, self.x.shape[0], self.batch_size):\n",
    "            #     x_batch = self.x[j:j + self.batch_size]\n",
    "            #     y_batch = self.y[j:j + self.batch_size]\n",
    "            #     self.feedforward(x_batch)\n",
    "            #     self.backprop(x_batch, y_batch)\n",
    "            self.feedforward()\n",
    "            self.backprop(alpha=alpha)\n",
    "            if i % 10 == 0:\n",
    "                print('Iteration:', i, 'Accuracy', self.get_accuracy())"
   ],
   "metadata": {
    "collapsed": false,
    "ExecuteTime": {
     "start_time": "2024-02-26T20:02:44.957878Z",
     "end_time": "2024-02-26T20:02:45.007913Z"
    }
   }
  },
  {
   "cell_type": "code",
   "execution_count": 10,
   "outputs": [],
   "source": [
    "def print_image(x):\n",
    "    plt.imshow(x.reshape(28, 28), cmap='gray')"
   ],
   "metadata": {
    "collapsed": false,
    "ExecuteTime": {
     "start_time": "2024-02-26T20:02:44.966327Z",
     "end_time": "2024-02-26T20:02:45.012388Z"
    }
   }
  },
  {
   "cell_type": "code",
   "execution_count": 18,
   "outputs": [],
   "source": [
    "nn = NN(x_train, y_train, alpha=0.2, epochs=1000, batch_size=100, architecture=(10, 10))"
   ],
   "metadata": {
    "collapsed": false,
    "ExecuteTime": {
     "start_time": "2024-02-26T20:04:41.397426Z",
     "end_time": "2024-02-26T20:04:41.402772Z"
    }
   }
  },
  {
   "cell_type": "code",
   "execution_count": 30,
   "outputs": [
    {
     "name": "stdout",
     "output_type": "stream",
     "text": [
      "Iteration: 0 Accuracy 0.9009666666666667\n",
      "Iteration: 10 Accuracy 0.9010666666666667\n",
      "Iteration: 20 Accuracy 0.9010833333333333\n",
      "Iteration: 30 Accuracy 0.90115\n",
      "Iteration: 40 Accuracy 0.9011666666666667\n",
      "Iteration: 50 Accuracy 0.9011666666666667\n",
      "Iteration: 60 Accuracy 0.9012\n",
      "Iteration: 70 Accuracy 0.9011666666666667\n",
      "Iteration: 80 Accuracy 0.9012166666666667\n",
      "Iteration: 90 Accuracy 0.9012833333333333\n"
     ]
    }
   ],
   "source": [
    "# nn.SGD(alpha=5, epochs=500)\n",
    "# nn.SGD(alpha=0.1, epochs=100)\n",
    "nn.SGD(alpha=0.2, epochs=100)"
   ],
   "metadata": {
    "collapsed": false,
    "ExecuteTime": {
     "start_time": "2024-02-26T20:08:46.444397Z",
     "end_time": "2024-02-26T20:08:59.765630Z"
    }
   }
  },
  {
   "cell_type": "code",
   "execution_count": 12,
   "outputs": [],
   "source": [
    "# get random image\n",
    "def get_random_image(nn: NN):\n",
    "    i = np.random.randint(0, x_test.shape[0])\n",
    "    x = x_test[i].reshape(1, -1)\n",
    "    print_image(x)\n",
    "\n",
    "    print('Image:', i)\n",
    "    print('Actual:', y_test[i])\n",
    "    print('Predicted:', nn.test_iamge(x))"
   ],
   "metadata": {
    "collapsed": false,
    "ExecuteTime": {
     "start_time": "2024-02-26T20:04:27.357042Z",
     "end_time": "2024-02-26T20:04:27.363862Z"
    }
   }
  },
  {
   "cell_type": "code",
   "execution_count": 81,
   "outputs": [
    {
     "name": "stdout",
     "output_type": "stream",
     "text": [
      "Image: 7559\n",
      "Actual: 5\n",
      "Predicted: 3\n"
     ]
    },
    {
     "data": {
      "text/plain": "<Figure size 640x480 with 1 Axes>",
      "image/png": "[encoded data removed]"
     },
     "metadata": {},
     "output_type": "display_data"
    }
   ],
   "source": [
    "get_random_image(nn)"
   ],
   "metadata": {
    "collapsed": false,
    "ExecuteTime": {
     "start_time": "2024-02-26T20:16:45.760501Z",
     "end_time": "2024-02-26T20:16:45.829699Z"
    }
   }
  },
  {
   "cell_type": "code",
   "execution_count": 41,
   "outputs": [],
   "source": [
    "def feedforward(nn: NN, x: np.array) -> np.array:\n",
    "    nn.Z1 = np.dot(x, nn.W1) + nn.b1\n",
    "    nn.a1 = sigmoid(nn.Z1)\n",
    "\n",
    "    nn.Z2 = np.dot(nn.a1, nn.W2) + nn.b2\n",
    "    nn.a2 = softmax(nn.Z2)\n",
    "    return nn.a2\n"
   ],
   "metadata": {
    "collapsed": false,
    "ExecuteTime": {
     "start_time": "2024-02-26T20:12:20.788331Z",
     "end_time": "2024-02-26T20:12:20.790217Z"
    }
   }
  },
  {
   "cell_type": "code",
   "execution_count": 14,
   "outputs": [
    {
     "name": "stdout",
     "output_type": "stream",
     "text": [
      "(60000, 10)\n",
      "(60000, 10)\n",
      "(60000, 10)\n",
      "(60000, 10)\n",
      "[[0.07822789 0.15085618 0.15128491 0.2211937  0.04773205 0.12042985\n",
      "  0.06278827 0.07870149 0.06725835 0.02152731]\n",
      " [0.28981819 0.02442793 0.0324325  0.04108263 0.08800018 0.30865397\n",
      "  0.03566433 0.01883071 0.12872013 0.03236942]\n",
      " [0.05216619 0.05143023 0.04176863 0.03838737 0.22581421 0.04926562\n",
      "  0.107156   0.07268938 0.26262586 0.09869651]\n",
      " [0.00782923 0.74145443 0.04338245 0.07906384 0.01036192 0.01163253\n",
      "  0.00893974 0.07685359 0.00759007 0.0128922 ]\n",
      " [0.06704959 0.05582989 0.01891781 0.01473907 0.24909311 0.05163518\n",
      "  0.03917211 0.12753145 0.17702474 0.19900706]\n",
      " [0.04771459 0.09606123 0.33857354 0.26732514 0.00835676 0.0303484\n",
      "  0.09636847 0.06352128 0.00992303 0.04180756]\n",
      " [0.08838369 0.45648168 0.03773618 0.02733895 0.06986745 0.0506123\n",
      "  0.01392985 0.14803763 0.04243057 0.06518169]\n",
      " [0.03651886 0.04305334 0.22572559 0.18644727 0.06779873 0.07078926\n",
      "  0.17594933 0.07334568 0.07958741 0.04078454]\n",
      " [0.20237366 0.37646815 0.0568589  0.03073276 0.0308106  0.1032457\n",
      "  0.03950809 0.09658608 0.03273501 0.03068105]\n",
      " [0.05021791 0.04855462 0.0614509  0.05498851 0.20362569 0.04281197\n",
      "  0.08203115 0.08066642 0.17462625 0.20102659]]\n"
     ]
    },
    {
     "data": {
      "text/plain": "0.3633166666666667"
     },
     "execution_count": 14,
     "metadata": {},
     "output_type": "execute_result"
    }
   ],
   "source": [
    "feedforward(nn)"
   ],
   "metadata": {
    "collapsed": false
   }
  },
  {
   "cell_type": "code",
   "execution_count": 15,
   "outputs": [
    {
     "name": "stdout",
     "output_type": "stream",
     "text": [
      "(60000, 10)\n"
     ]
    }
   ],
   "source": [
    "print(one_hot(y_train).shape)"
   ],
   "metadata": {
    "collapsed": false,
    "ExecuteTime": {
     "start_time": "2024-02-26T13:40:11.919240Z",
     "end_time": "2024-02-26T13:40:11.921912Z"
    }
   }
  },
  {
   "cell_type": "code",
   "execution_count": 16,
   "outputs": [
    {
     "name": "stdout",
     "output_type": "stream",
     "text": [
      "(60000, 10)\n",
      "(60000, 10)\n"
     ]
    }
   ],
   "source": [
    "nn.Z1 = np.dot(nn.x, nn.W1) + nn.b1   # n x 784 * 784 x 10 + 1 x 10 = n x 10\n",
    "nn.a1 = sigmoid(nn.Z1)                    # n x 10\n",
    "\n",
    "print(nn.a1.shape)\n",
    "\n",
    "nn.Z2 = np.dot(nn.a1, nn.W2) + nn.b2  # n x 10 * 10 x 10 + 1 x 10 = n x 10\n",
    "nn.a2 = softmax(nn.Z2)                    # n x 10\n",
    "\n",
    "print(nn.a2.shape)"
   ],
   "metadata": {
    "collapsed": false,
    "ExecuteTime": {
     "start_time": "2024-02-26T19:58:28.484349Z",
     "end_time": "2024-02-26T19:58:28.732777Z"
    }
   }
  },
  {
   "cell_type": "code",
   "execution_count": null,
   "outputs": [],
   "source": [],
   "metadata": {
    "collapsed": false
   }
  }
 ],
 "metadata": {
  "kernelspec": {
   "display_name": "Python 3",
   "language": "python",
   "name": "python3"
  },
  "language_info": {
   "codemirror_mode": {
    "name": "ipython",
    "version": 2
   },
   "file_extension": ".py",
   "mimetype": "text/x-python",
   "name": "python",
   "nbconvert_exporter": "python",
   "pygments_lexer": "ipython2",
   "version": "2.7.6"
  }
 },
 "nbformat": 4,
 "nbformat_minor": 0
}
