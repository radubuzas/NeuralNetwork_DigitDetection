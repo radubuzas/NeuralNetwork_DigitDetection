{
 "cells": [
  {
   "cell_type": "code",
   "execution_count": 1,
   "metadata": {
    "collapsed": true,
    "ExecuteTime": {
     "start_time": "2024-02-26T20:02:42.278706Z",
     "end_time": "2024-02-26T20:02:44.765443Z"
    }
   },
   "outputs": [
    {
     "name": "stderr",
     "output_type": "stream",
     "text": [
      "/Users/radubuzas/PycharmProjects/DigitDetection/venv/lib/python3.9/site-packages/urllib3/__init__.py:35: NotOpenSSLWarning: urllib3 v2 only supports OpenSSL 1.1.1+, currently the 'ssl' module is compiled with 'LibreSSL 2.8.3'. See: https://github.com/urllib3/urllib3/issues/3020\n",
      "  warnings.warn(\n"
     ]
    }
   ],
   "source": [
    "import numpy as np\n",
    "import tensorflow.keras.datasets as datasets\n",
    "import matplotlib.pyplot as plt"
   ]
  },
  {
   "cell_type": "code",
   "execution_count": 2,
   "outputs": [
    {
     "name": "stdout",
     "output_type": "stream",
     "text": [
      "(60000, 28, 28)\n"
     ]
    }
   ],
   "source": [
    "mnist = datasets.mnist\n",
    "(x_train, y_train), (x_test, y_test) = mnist.load_data()\n",
    "\n",
    "print(x_train.shape)"
   ],
   "metadata": {
    "collapsed": false,
    "ExecuteTime": {
     "start_time": "2024-02-26T20:02:44.766192Z",
     "end_time": "2024-02-26T20:02:44.841269Z"
    }
   }
  },
  {
   "cell_type": "code",
   "execution_count": 3,
   "outputs": [
    {
     "name": "stdout",
     "output_type": "stream",
     "text": [
      "(60000, 784)\n"
     ]
    }
   ],
   "source": [
    "n = x_train.shape[0]\n",
    "x_train = x_train.reshape(n, -1)\n",
    "x_train = x_train / 255\n",
    "\n",
    "x_test = x_test.reshape(x_test.shape[0], -1)\n",
    "x_test = x_test / 255\n",
    "\n",
    "print(x_train.shape)"
   ],
   "metadata": {
    "collapsed": false,
    "ExecuteTime": {
     "start_time": "2024-02-26T20:02:44.842006Z",
     "end_time": "2024-02-26T20:02:44.943990Z"
    }
   }
  },
  {
   "cell_type": "code",
   "execution_count": 4,
   "outputs": [
    {
     "name": "stdout",
     "output_type": "stream",
     "text": [
      "(10000, 784)\n"
     ]
    }
   ],
   "source": [
    "n = x_test.shape[0]\n",
    "x_test = x_test.reshape(n, -1)\n",
    "\n",
    "print(x_test.shape)"
   ],
   "metadata": {
    "collapsed": false,
    "ExecuteTime": {
     "start_time": "2024-02-26T20:02:44.944254Z",
     "end_time": "2024-02-26T20:02:44.946906Z"
    }
   }
  },
  {
   "cell_type": "code",
   "execution_count": 5,
   "outputs": [],
   "source": [
    "def sigmoid(x):\n",
    "    return 1 / (1 + np.exp(-x))"
   ],
   "metadata": {
    "collapsed": false,
    "ExecuteTime": {
     "start_time": "2024-02-26T20:02:44.948381Z",
     "end_time": "2024-02-26T20:02:44.950163Z"
    }
   }
  },
  {
   "cell_type": "code",
   "execution_count": 6,
   "outputs": [],
   "source": [
    "def sigmoid_derivative(x):\n",
    "    return sigmoid(x) * (1 - sigmoid(x))"
   ],
   "metadata": {
    "collapsed": false,
    "ExecuteTime": {
     "start_time": "2024-02-26T20:02:44.950625Z",
     "end_time": "2024-02-26T20:02:44.952550Z"
    }
   }
  },
  {
   "cell_type": "code",
   "execution_count": 7,
   "outputs": [],
   "source": [
    "def softmax(x):\n",
    "    e_x = np.exp(x - np.max(x))\n",
    "    return e_x / e_x.sum(axis=1, keepdims=True)"
   ],
   "metadata": {
    "collapsed": false,
    "ExecuteTime": {
     "start_time": "2024-02-26T20:02:44.953052Z",
     "end_time": "2024-02-26T20:02:44.955058Z"
    }
   }
  },
  {
   "cell_type": "code",
   "execution_count": 8,
   "outputs": [],
   "source": [
    "def one_hot(y):\n",
    "    n = y.shape[0]\n",
    "    k = np.max(y) + 1\n",
    "    y_one_hot = np.zeros((n, k))\n",
    "    y_one_hot[np.arange(n), y] = 1\n",
    "    return y_one_hot"
   ],
   "metadata": {
    "collapsed": false,
    "ExecuteTime": {
     "start_time": "2024-02-26T20:02:44.955936Z",
     "end_time": "2024-02-26T20:02:44.957555Z"
    }
   }
  },
  {
   "cell_type": "code",
   "execution_count": 118,
   "outputs": [],
   "source": [
    "class NN:\n",
    "    def __init__(self, x, y, alpha=0.01, epochs=1000, batch_size=100, architecture=(10, 10)):\n",
    "        self.x = x\n",
    "        self.y = y\n",
    "        self.alpha = alpha\n",
    "        self.epochs = epochs\n",
    "        self.batch_size = batch_size\n",
    "\n",
    "        self.architecture_size = len(architecture)\n",
    "        self.layers = architecture\n",
    "\n",
    "        self.Z = [None] * self.architecture_size\n",
    "        self.a = [None] * self.architecture_size\n",
    "\n",
    "        self.W = [None] * self.architecture_size\n",
    "        self.b = [None] * self.architecture_size\n",
    "\n",
    "        self.W[0] = np.random.randn(x.shape[1], self.layers[0])                 # 784 x 10\n",
    "        self.b[0] = np.random.randn(1, self.layers[0])                          # 1 x 10\n",
    "\n",
    "        for i in range(1, self.architecture_size):\n",
    "            self.W[i] = np.random.randn(self.layers[i - 1], self.layers[i])     # 10 x 10\n",
    "            self.b[i] = np.random.randn(1, self.layers[i])                      # 1 x 10\n",
    "\n",
    "    def feedforward(self, x=None) -> ():\n",
    "        if x is None:\n",
    "            x = self.x\n",
    "\n",
    "        self.Z[0] = np.dot(x, self.W[0]) + self.b[0]            # n x 784 @ 784 x 10 + 1 x 10 = n x 10\n",
    "        self.a[0] = sigmoid(self.Z[0])                          # n x 10\n",
    "\n",
    "        for i in range(1, self.architecture_size):\n",
    "            self.Z[i] = np.dot(self.a[i - 1], self.W[i]) + self.b[i]   # n x 10 * 10 x 10 + 1 x 10 = n x 10\n",
    "            self.a[i] = sigmoid(self.Z[i])                    # n x 10\n",
    "\n",
    "        n = self.architecture_size - 1\n",
    "\n",
    "        self.Z[n] = np.dot(self.a[n-1], self.W[n]) + self.b[n]    # n x 10 * 10 x 10 + 1 x 10 = n x 10\n",
    "        self.a[n] = softmax(self.Z[n])                          # n x 10\n",
    "\n",
    "    def test(self, x: np.array, y: np.array) -> float:\n",
    "        self.feedforward(x)\n",
    "        n = self.architecture_size - 1\n",
    "        r = np.argmax(self.a[n], 1)\n",
    "        return np.mean(r == y)\n",
    "\n",
    "    def test_iamge(self, image: np.array) -> np.array:\n",
    "        self.feedforward(image)\n",
    "        n = self.architecture_size - 1\n",
    "        return np.argmax(self.a[n][0])\n",
    "\n",
    "    def backprop(self, alpha=0):\n",
    "        if alpha == 0:\n",
    "            alpha = self.alpha\n",
    "\n",
    "        m = self.y.shape[0]\n",
    "        n = self.architecture_size - 1\n",
    "\n",
    "        dZ = [None] * self.architecture_size\n",
    "        dW = [None] * self.architecture_size\n",
    "        db = [None] * self.architecture_size\n",
    "\n",
    "        one_hot_y = one_hot(self.y)\n",
    "\n",
    "        dZ[n] = self.a[n] - one_hot_y\n",
    "        dW[n] = np.dot(self.a[n-1].T, dZ[n]) / m\n",
    "        db[n] = np.sum(dZ[n], axis=0, keepdims=True) / m\n",
    "\n",
    "\n",
    "        for i in range(n-1, 0, -1):\n",
    "            dZ[i] = np.dot(dZ[i+1], self.W[i+1].T) * sigmoid_derivative(self.Z[i])\n",
    "            dW[i] = np.dot(self.a[i-1].T, dZ[i]) / m\n",
    "            db[i] = np.sum(dZ[i], axis=0, keepdims=True) / m\n",
    "\n",
    "        dZ[0] = np.dot(dZ[1], self.W[1].T) * sigmoid_derivative(self.Z[0])\n",
    "        dW[0] = np.dot(self.x.T, dZ[0]) / m\n",
    "        db[0] = np.sum(dZ[0], axis=0, keepdims=True) / m\n",
    "\n",
    "        for i in range(self.architecture_size):\n",
    "            self.W[i] -= alpha * dW[i]\n",
    "            self.b[i] -= alpha * db[i]\n",
    "\n",
    "    def get_accuracy(self):\n",
    "        n = self.architecture_size - 1\n",
    "        return np.mean(np.argmax(self.a[n], 1) == self.y)\n",
    "\n",
    "    def SGD(self, alpha=0, epochs=0):\n",
    "        if alpha == 0:\n",
    "            alpha = self.alpha\n",
    "        if epochs == 0:\n",
    "            epochs = self.epochs\n",
    "        for i in range(epochs):\n",
    "            # for j in range(0, self.x.shape[0], self.batch_size):\n",
    "            #     x_batch = self.x[j:j + self.batch_size]\n",
    "            #     y_batch = self.y[j:j + self.batch_size]\n",
    "            #     self.feedforward(x_batch)\n",
    "            #     self.backprop(x_batch, y_batch)\n",
    "            self.feedforward()\n",
    "            self.backprop(alpha=alpha)\n",
    "            if i % 10 == 0:\n",
    "                print('Iteration:', i, 'Accuracy', self.get_accuracy())"
   ],
   "metadata": {
    "collapsed": false,
    "ExecuteTime": {
     "start_time": "2024-02-26T21:52:23.481643Z",
     "end_time": "2024-02-26T21:52:23.484392Z"
    }
   }
  },
  {
   "cell_type": "code",
   "execution_count": 119,
   "outputs": [],
   "source": [
    "def print_image(x):\n",
    "    plt.imshow(x.reshape(28, 28), cmap='gray')"
   ],
   "metadata": {
    "collapsed": false,
    "ExecuteTime": {
     "start_time": "2024-02-26T21:52:24.370392Z",
     "end_time": "2024-02-26T21:52:24.378769Z"
    }
   }
  },
  {
   "cell_type": "code",
   "execution_count": 136,
   "outputs": [],
   "source": [
    "nn = NN(x_train, y_train, alpha=0.2, epochs=1000, batch_size=100, architecture=(10, 10))"
   ],
   "metadata": {
    "collapsed": false,
    "ExecuteTime": {
     "start_time": "2024-02-26T22:05:49.017148Z",
     "end_time": "2024-02-26T22:05:49.019893Z"
    }
   }
  },
  {
   "cell_type": "code",
   "execution_count": 140,
   "outputs": [
    {
     "name": "stdout",
     "output_type": "stream",
     "text": [
      "Iteration: 0 Accuracy 0.8992\n",
      "Iteration: 10 Accuracy 0.8992\n",
      "Iteration: 20 Accuracy 0.8992333333333333\n",
      "Iteration: 30 Accuracy 0.8992166666666667\n",
      "Iteration: 40 Accuracy 0.89925\n",
      "Iteration: 50 Accuracy 0.8992833333333333\n",
      "Iteration: 60 Accuracy 0.8992833333333333\n",
      "Iteration: 70 Accuracy 0.8993\n",
      "Iteration: 80 Accuracy 0.8993166666666667\n",
      "Iteration: 90 Accuracy 0.8993166666666667\n",
      "Iteration: 100 Accuracy 0.8993166666666667\n",
      "Iteration: 110 Accuracy 0.8993333333333333\n",
      "Iteration: 120 Accuracy 0.8993333333333333\n",
      "Iteration: 130 Accuracy 0.8993666666666666\n",
      "Iteration: 140 Accuracy 0.8994166666666666\n",
      "Iteration: 150 Accuracy 0.8994833333333333\n",
      "Iteration: 160 Accuracy 0.8994833333333333\n",
      "Iteration: 170 Accuracy 0.8995\n",
      "Iteration: 180 Accuracy 0.8994666666666666\n",
      "Iteration: 190 Accuracy 0.8995\n",
      "Iteration: 200 Accuracy 0.8995333333333333\n",
      "Iteration: 210 Accuracy 0.8995166666666666\n",
      "Iteration: 220 Accuracy 0.8995333333333333\n",
      "Iteration: 230 Accuracy 0.8995\n",
      "Iteration: 240 Accuracy 0.8994833333333333\n",
      "Iteration: 250 Accuracy 0.8994666666666666\n",
      "Iteration: 260 Accuracy 0.8994666666666666\n",
      "Iteration: 270 Accuracy 0.8994333333333333\n",
      "Iteration: 280 Accuracy 0.89945\n",
      "Iteration: 290 Accuracy 0.8995\n",
      "Iteration: 300 Accuracy 0.8995333333333333\n",
      "Iteration: 310 Accuracy 0.8995333333333333\n",
      "Iteration: 320 Accuracy 0.89955\n",
      "Iteration: 330 Accuracy 0.8996\n",
      "Iteration: 340 Accuracy 0.8996833333333333\n",
      "Iteration: 350 Accuracy 0.8996833333333333\n",
      "Iteration: 360 Accuracy 0.8997333333333334\n",
      "Iteration: 370 Accuracy 0.8998166666666667\n",
      "Iteration: 380 Accuracy 0.8998333333333334\n",
      "Iteration: 390 Accuracy 0.8998833333333334\n",
      "Iteration: 400 Accuracy 0.8998833333333334\n",
      "Iteration: 410 Accuracy 0.8999\n",
      "Iteration: 420 Accuracy 0.8999\n",
      "Iteration: 430 Accuracy 0.8999666666666667\n",
      "Iteration: 440 Accuracy 0.89995\n",
      "Iteration: 450 Accuracy 0.8999166666666667\n",
      "Iteration: 460 Accuracy 0.8999\n",
      "Iteration: 470 Accuracy 0.8999333333333334\n",
      "Iteration: 480 Accuracy 0.89995\n",
      "Iteration: 490 Accuracy 0.9\n",
      "Iteration: 500 Accuracy 0.8999833333333334\n",
      "Iteration: 510 Accuracy 0.9000666666666667\n",
      "Iteration: 520 Accuracy 0.9000833333333333\n",
      "Iteration: 530 Accuracy 0.9000833333333333\n",
      "Iteration: 540 Accuracy 0.9001166666666667\n",
      "Iteration: 550 Accuracy 0.90015\n",
      "Iteration: 560 Accuracy 0.9001833333333333\n",
      "Iteration: 570 Accuracy 0.9001833333333333\n",
      "Iteration: 580 Accuracy 0.9002166666666667\n",
      "Iteration: 590 Accuracy 0.9002666666666667\n",
      "Iteration: 600 Accuracy 0.90025\n",
      "Iteration: 610 Accuracy 0.9003333333333333\n",
      "Iteration: 620 Accuracy 0.9003333333333333\n",
      "Iteration: 630 Accuracy 0.9003833333333333\n",
      "Iteration: 640 Accuracy 0.9004\n",
      "Iteration: 650 Accuracy 0.9004166666666666\n",
      "Iteration: 660 Accuracy 0.9004166666666666\n",
      "Iteration: 670 Accuracy 0.9004333333333333\n",
      "Iteration: 680 Accuracy 0.90045\n",
      "Iteration: 690 Accuracy 0.90045\n",
      "Iteration: 700 Accuracy 0.90045\n",
      "Iteration: 710 Accuracy 0.9005\n",
      "Iteration: 720 Accuracy 0.90055\n",
      "Iteration: 730 Accuracy 0.90055\n",
      "Iteration: 740 Accuracy 0.9005833333333333\n",
      "Iteration: 750 Accuracy 0.9006666666666666\n",
      "Iteration: 760 Accuracy 0.9007\n",
      "Iteration: 770 Accuracy 0.9007833333333334\n",
      "Iteration: 780 Accuracy 0.9008166666666667\n",
      "Iteration: 790 Accuracy 0.90085\n",
      "Iteration: 800 Accuracy 0.9008166666666667\n",
      "Iteration: 810 Accuracy 0.9008166666666667\n",
      "Iteration: 820 Accuracy 0.9008666666666667\n",
      "Iteration: 830 Accuracy 0.9008666666666667\n",
      "Iteration: 840 Accuracy 0.9008833333333334\n",
      "Iteration: 850 Accuracy 0.9009166666666667\n",
      "Iteration: 860 Accuracy 0.9009333333333334\n",
      "Iteration: 870 Accuracy 0.9009166666666667\n",
      "Iteration: 880 Accuracy 0.9009166666666667\n",
      "Iteration: 890 Accuracy 0.9009333333333334\n",
      "Iteration: 900 Accuracy 0.9009166666666667\n",
      "Iteration: 910 Accuracy 0.9009\n",
      "Iteration: 920 Accuracy 0.9008833333333334\n",
      "Iteration: 930 Accuracy 0.9009\n",
      "Iteration: 940 Accuracy 0.9008833333333334\n",
      "Iteration: 950 Accuracy 0.9009\n",
      "Iteration: 960 Accuracy 0.9009333333333334\n",
      "Iteration: 970 Accuracy 0.9009333333333334\n",
      "Iteration: 980 Accuracy 0.901\n",
      "Iteration: 990 Accuracy 0.9010166666666667\n"
     ]
    }
   ],
   "source": [
    "# nn.SGD(alpha=5, epochs=500)\n",
    "# nn.SGD(alpha=1, epochs=100)\n",
    "nn.SGD(alpha=0.2, epochs=1000)"
   ],
   "metadata": {
    "collapsed": false,
    "ExecuteTime": {
     "start_time": "2024-02-26T22:08:17.194751Z",
     "end_time": "2024-02-26T22:11:03.035411Z"
    }
   }
  },
  {
   "cell_type": "code",
   "execution_count": 141,
   "outputs": [],
   "source": [
    "# get random image\n",
    "def get_random_image(nn: NN):\n",
    "    i = np.random.randint(0, x_test.shape[0])\n",
    "    x = x_test[i].reshape(1, -1)\n",
    "    print_image(x)\n",
    "\n",
    "    print('Image:', i)\n",
    "    print('Actual:', y_test[i])\n",
    "    print('Predicted:', nn.test_iamge(x))"
   ],
   "metadata": {
    "collapsed": false,
    "ExecuteTime": {
     "start_time": "2024-02-26T22:11:20.519870Z",
     "end_time": "2024-02-26T22:11:20.527269Z"
    }
   }
  },
  {
   "cell_type": "code",
   "execution_count": 153,
   "outputs": [
    {
     "name": "stdout",
     "output_type": "stream",
     "text": [
      "Image: 1226\n",
      "Actual: 7\n",
      "Predicted: 2\n"
     ]
    },
    {
     "data": {
      "text/plain": "<Figure size 640x480 with 1 Axes>",
      "image/png": "[encoded data removed]"
     },
     "metadata": {},
     "output_type": "display_data"
    }
   ],
   "source": [
    "get_random_image(nn)"
   ],
   "metadata": {
    "collapsed": false,
    "ExecuteTime": {
     "start_time": "2024-02-26T22:11:29.466191Z",
     "end_time": "2024-02-26T22:11:29.532365Z"
    }
   }
  },
  {
   "cell_type": "code",
   "execution_count": 155,
   "outputs": [
    {
     "data": {
      "text/plain": "0.9010833333333333"
     },
     "execution_count": 155,
     "metadata": {},
     "output_type": "execute_result"
    }
   ],
   "source": [
    "nn.test(x_train, y_train)"
   ],
   "metadata": {
    "collapsed": false,
    "ExecuteTime": {
     "start_time": "2024-02-26T22:11:37.287283Z",
     "end_time": "2024-02-26T22:11:37.375196Z"
    }
   }
  },
  {
   "cell_type": "code",
   "execution_count": 158,
   "outputs": [
    {
     "data": {
      "text/plain": "0.8989"
     },
     "execution_count": 158,
     "metadata": {},
     "output_type": "execute_result"
    }
   ],
   "source": [
    "nn.test(x_test, y_test)"
   ],
   "metadata": {
    "collapsed": false,
    "ExecuteTime": {
     "start_time": "2024-02-26T22:11:39.281083Z",
     "end_time": "2024-02-26T22:11:39.350798Z"
    }
   }
  },
  {
   "cell_type": "code",
   "execution_count": null,
   "outputs": [],
   "source": [],
   "metadata": {
    "collapsed": false
   }
  }
 ],
 "metadata": {
  "kernelspec": {
   "display_name": "Python 3",
   "language": "python",
   "name": "python3"
  },
  "language_info": {
   "codemirror_mode": {
    "name": "ipython",
    "version": 2
   },
   "file_extension": ".py",
   "mimetype": "text/x-python",
   "name": "python",
   "nbconvert_exporter": "python",
   "pygments_lexer": "ipython2",
   "version": "2.7.6"
  }
 },
 "nbformat": 4,
 "nbformat_minor": 0
}
