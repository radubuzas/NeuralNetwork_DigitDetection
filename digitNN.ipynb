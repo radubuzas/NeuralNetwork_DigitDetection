{
 "cells": [
  {
   "cell_type": "code",
   "execution_count": 2,
   "metadata": {
    "collapsed": true,
    "ExecuteTime": {
     "start_time": "2024-02-26T01:42:47.088247Z",
     "end_time": "2024-02-26T01:42:49.345685Z"
    }
   },
   "outputs": [
    {
     "name": "stderr",
     "output_type": "stream",
     "text": [
      "/Users/radubuzas/PycharmProjects/DigitDetection/venv/lib/python3.9/site-packages/urllib3/__init__.py:35: NotOpenSSLWarning: urllib3 v2 only supports OpenSSL 1.1.1+, currently the 'ssl' module is compiled with 'LibreSSL 2.8.3'. See: https://github.com/urllib3/urllib3/issues/3020\n",
      "  warnings.warn(\n"
     ]
    }
   ],
   "source": [
    "import numpy as np\n",
    "import tensorflow.keras.datasets as datasets\n",
    "import matplotlib.pyplot as plt"
   ]
  },
  {
   "cell_type": "code",
   "execution_count": 3,
   "outputs": [
    {
     "name": "stdout",
     "output_type": "stream",
     "text": [
      "(60000, 28, 28)\n"
     ]
    }
   ],
   "source": [
    "mnist = datasets.mnist\n",
    "(x_train, y_train), (x_test, y_test) = mnist.load_data()\n",
    "\n",
    "print(x_train.shape)"
   ],
   "metadata": {
    "collapsed": false,
    "ExecuteTime": {
     "start_time": "2024-02-26T01:42:53.187174Z",
     "end_time": "2024-02-26T01:42:53.269415Z"
    }
   }
  },
  {
   "cell_type": "code",
   "execution_count": 4,
   "outputs": [
    {
     "name": "stdout",
     "output_type": "stream",
     "text": [
      "(60000, 784)\n"
     ]
    }
   ],
   "source": [
    "n = x_train.shape[0]\n",
    "x_train = x_train.reshape(n, -1)\n",
    "x_train = x_train / 255\n",
    "\n",
    "print(x_train.shape)"
   ],
   "metadata": {
    "collapsed": false,
    "ExecuteTime": {
     "start_time": "2024-02-26T01:42:53.991977Z",
     "end_time": "2024-02-26T01:42:54.056375Z"
    }
   }
  },
  {
   "cell_type": "code",
   "execution_count": 5,
   "outputs": [
    {
     "name": "stdout",
     "output_type": "stream",
     "text": [
      "(10000, 784)\n"
     ]
    }
   ],
   "source": [
    "n = x_test.shape[0]\n",
    "x_test = x_test.reshape(n, -1)\n",
    "\n",
    "print(x_test.shape)"
   ],
   "metadata": {
    "collapsed": false,
    "ExecuteTime": {
     "start_time": "2024-02-26T01:42:55.098896Z",
     "end_time": "2024-02-26T01:42:55.103124Z"
    }
   }
  },
  {
   "cell_type": "code",
   "execution_count": 6,
   "outputs": [],
   "source": [
    "def sigmoid(x):\n",
    "    return 1 / (1 + np.exp(-x))"
   ],
   "metadata": {
    "collapsed": false,
    "ExecuteTime": {
     "start_time": "2024-02-26T01:42:56.151597Z",
     "end_time": "2024-02-26T01:42:56.156258Z"
    }
   }
  },
  {
   "cell_type": "code",
   "execution_count": 7,
   "outputs": [],
   "source": [
    "def sigmoid_derivative(x):\n",
    "    return sigmoid(x) * (1 - sigmoid(x))"
   ],
   "metadata": {
    "collapsed": false,
    "ExecuteTime": {
     "start_time": "2024-02-26T01:42:56.530026Z",
     "end_time": "2024-02-26T01:42:56.533304Z"
    }
   }
  },
  {
   "cell_type": "code",
   "execution_count": 8,
   "outputs": [],
   "source": [
    "def softmax(x):\n",
    "    e_x = np.exp(x - np.max(x))\n",
    "    return e_x / e_x.sum(axis=0, keepdims=True)"
   ],
   "metadata": {
    "collapsed": false,
    "ExecuteTime": {
     "start_time": "2024-02-26T01:42:57.050627Z",
     "end_time": "2024-02-26T01:42:57.054339Z"
    }
   }
  },
  {
   "cell_type": "code",
   "execution_count": 9,
   "outputs": [],
   "source": [
    "def one_hot(y):\n",
    "    n = y.shape[0]\n",
    "    k = np.max(y) + 1\n",
    "    y_one_hot = np.zeros((n, k))\n",
    "    y_one_hot[np.arange(n), y] = 1\n",
    "    return y_one_hot"
   ],
   "metadata": {
    "collapsed": false,
    "ExecuteTime": {
     "start_time": "2024-02-26T01:42:57.497116Z",
     "end_time": "2024-02-26T01:42:57.501273Z"
    }
   }
  },
  {
   "cell_type": "code",
   "execution_count": 10,
   "outputs": [],
   "source": [
    "class NN:\n",
    "    def __init__(self, x, y, alpha=0.01, epochs=1000, batch_size=100, architecture=(10, 10)):\n",
    "        self.Z1 = None\n",
    "        self.a1 = None\n",
    "        self.Z2 = None\n",
    "        self.a2 = None\n",
    "        self.x = x\n",
    "        self.y = y\n",
    "        self.alpha = alpha\n",
    "        self.epochs = epochs\n",
    "        self.batch_size = batch_size\n",
    "        self.first_layer = architecture[0]\n",
    "        self.second_layer = architecture[1]\n",
    "        self.W1 = np.random.randn(self.x.shape[1], self.first_layer)\n",
    "        self.b1 = np.zeros((1, self.first_layer))\n",
    "        self.W2 = np.random.randn(self.first_layer, self.second_layer)\n",
    "        self.b2 = np.zeros((1, self.second_layer))\n",
    "\n",
    "\n",
    "    def feedforward(self, x):\n",
    "        self.Z1 = np.dot(x, self.W1) + self.b1\n",
    "        self.a1 = sigmoid(self.Z1)\n",
    "        self.Z2 = np.dot(self.a1, self.W2) + self.b2\n",
    "        self.a2 = softmax(self.Z2)\n",
    "\n",
    "    def backprop(self, x, y):\n",
    "        n = x.shape[0]\n",
    "        one_hot_y = one_hot(y)\n",
    "        dZ2 = self.a2 - one_hot_y\n",
    "        dW2 = np.dot(self.a1.T, dZ2) / n\n",
    "        db2 = np.sum(dZ2, axis=0, keepdims=True) / n\n",
    "        dZ1 = np.dot(dZ2, self.W2.T) * sigmoid_derivative(self.Z1)\n",
    "\n",
    "        dW1 = np.dot(x.T, dZ1) / n\n",
    "        db1 = np.sum(dZ1, axis=0, keepdims=True) / n\n",
    "\n",
    "        self.W1 -= self.alpha * dW1\n",
    "        self.b1 -= self.alpha * db1\n",
    "        self.W2 -= self.alpha * dW2\n",
    "        self.b2 -= self.alpha * db2\n",
    "\n",
    "    def SGD(self):\n",
    "        for i in range(self.epochs):\n",
    "            # for j in range(0, self.x.shape[0], self.batch_size):\n",
    "            #     x_batch = self.x[j:j + self.batch_size]\n",
    "            #     y_batch = self.y[j:j + self.batch_size]\n",
    "            #     self.feedforward(x_batch)\n",
    "            #     self.backprop(x_batch, y_batch)\n",
    "            self.feedforward(self.x)\n",
    "            self.backprop(self.x, self.y)\n",
    "            if i % 10 == 0:\n",
    "                print('Iteration:', i, 'Loss:', -np.sum(one_hot(self.y) * np.log(self.a2)) / self.x.shape[0])"
   ],
   "metadata": {
    "collapsed": false,
    "ExecuteTime": {
     "start_time": "2024-02-26T01:43:00.304408Z",
     "end_time": "2024-02-26T01:43:00.311906Z"
    }
   }
  },
  {
   "cell_type": "code",
   "execution_count": 11,
   "outputs": [],
   "source": [
    "def print_image(x):\n",
    "    plt.imshow(x.reshape(28, 28), cmap='gray')"
   ],
   "metadata": {
    "collapsed": false,
    "ExecuteTime": {
     "start_time": "2024-02-26T01:43:03.361690Z",
     "end_time": "2024-02-26T01:43:03.367043Z"
    }
   }
  },
  {
   "cell_type": "code",
   "execution_count": 14,
   "outputs": [],
   "source": [
    "nn = NN(x_train, y_train, alpha=0.2, epochs=1000, batch_size=100, architecture=(10, 10))"
   ],
   "metadata": {
    "collapsed": false,
    "ExecuteTime": {
     "start_time": "2024-02-26T01:44:25.001404Z",
     "end_time": "2024-02-26T01:44:25.005043Z"
    }
   }
  },
  {
   "cell_type": "code",
   "execution_count": null,
   "outputs": [
    {
     "name": "stdout",
     "output_type": "stream",
     "text": [
      "Iteration: 0 Loss: 11.956416167074055\n",
      "Iteration: 10 Loss: 11.771853439444488\n",
      "Iteration: 20 Loss: 11.621802478969272\n",
      "Iteration: 30 Loss: 11.507983697055838\n",
      "Iteration: 40 Loss: 11.42138731601776\n",
      "Iteration: 50 Loss: 11.358250303342835\n",
      "Iteration: 60 Loss: 11.312503301761678\n",
      "Iteration: 70 Loss: 11.27578676137372\n",
      "Iteration: 80 Loss: 11.238341916128554\n",
      "Iteration: 90 Loss: 11.19459870118278\n",
      "Iteration: 100 Loss: 11.14512354203809\n",
      "Iteration: 110 Loss: 11.092675134888664\n",
      "Iteration: 120 Loss: 11.042079516643165\n",
      "Iteration: 130 Loss: 10.99523656129692\n",
      "Iteration: 140 Loss: 10.95607297602539\n",
      "Iteration: 150 Loss: 10.928383753262064\n",
      "Iteration: 160 Loss: 10.911711630728917\n",
      "Iteration: 170 Loss: 10.903045220210817\n",
      "Iteration: 180 Loss: 10.900656683782609\n",
      "Iteration: 190 Loss: 10.902286506686753\n",
      "Iteration: 200 Loss: 10.905890176035438\n",
      "Iteration: 210 Loss: 10.912220854591894\n",
      "Iteration: 220 Loss: 10.921387609621021\n",
      "Iteration: 230 Loss: 10.932302662204139\n",
      "Iteration: 240 Loss: 10.9438903790999\n",
      "Iteration: 250 Loss: 10.95507108937833\n",
      "Iteration: 260 Loss: 10.965368330500205\n",
      "Iteration: 270 Loss: 10.974841747298157\n",
      "Iteration: 280 Loss: 10.983590285248386\n",
      "Iteration: 290 Loss: 10.991667102402872\n",
      "Iteration: 300 Loss: 10.999135602398745\n",
      "Iteration: 310 Loss: 11.006028634690566\n",
      "Iteration: 320 Loss: 11.012312890029342\n",
      "Iteration: 330 Loss: 11.017923463423319\n",
      "Iteration: 340 Loss: 11.02278737102856\n",
      "Iteration: 350 Loss: 11.026842692386941\n",
      "Iteration: 360 Loss: 11.030078713443112\n",
      "Iteration: 370 Loss: 11.032547686690965\n",
      "Iteration: 380 Loss: 11.034332318820422\n"
     ]
    }
   ],
   "source": [
    "nn.SGD()"
   ],
   "metadata": {
    "collapsed": false,
    "ExecuteTime": {
     "start_time": "2024-02-26T01:40:36.748724Z",
     "end_time": "2024-02-26T01:40:48.462861Z"
    },
    "pycharm": {
     "is_executing": true
    }
   }
  },
  {
   "cell_type": "code",
   "execution_count": 22,
   "outputs": [],
   "source": [
    "n1 = NN(x_train, y_train, alpha=0.1, epochs=100, batch_size=100, architecture=(10, 10))\n"
   ],
   "metadata": {
    "collapsed": false,
    "ExecuteTime": {
     "start_time": "2024-02-26T01:22:58.158151Z",
     "end_time": "2024-02-26T01:22:58.169931Z"
    }
   }
  },
  {
   "cell_type": "code",
   "execution_count": 23,
   "outputs": [
    {
     "name": "stderr",
     "output_type": "stream",
     "text": [
      "/var/folders/3v/wnjt1q_12gn5lscn_jqcbpy40000gn/T/ipykernel_66882/1956533664.py:2: RuntimeWarning: overflow encountered in exp\n",
      "  return 1 / (1 + np.exp(-x))\n"
     ]
    },
    {
     "name": "stdout",
     "output_type": "stream",
     "text": [
      "Iteration: 0 Loss: 11.628764477445845\n",
      "Iteration: 10 Loss: 11.585489462782652\n",
      "Iteration: 20 Loss: 11.542479781308197\n",
      "Iteration: 30 Loss: 11.505439647585586\n",
      "Iteration: 40 Loss: 11.472054275090372\n",
      "Iteration: 50 Loss: 11.442968270578856\n",
      "Iteration: 60 Loss: 11.417334758621255\n",
      "Iteration: 70 Loss: 11.39100204474672\n",
      "Iteration: 80 Loss: 11.366374601374188\n",
      "Iteration: 90 Loss: 11.339299036285894\n",
      "Iteration: 99 Loss: 11.315979120330585\n"
     ]
    }
   ],
   "source": [
    "n1.SGD()"
   ],
   "metadata": {
    "collapsed": false,
    "ExecuteTime": {
     "start_time": "2024-02-26T01:22:59.883834Z",
     "end_time": "2024-02-26T01:23:23.705589Z"
    }
   }
  },
  {
   "cell_type": "code",
   "execution_count": 12,
   "outputs": [],
   "source": [
    "nn.feedforward(x_train)\n",
    "# print_image(x_train[0])"
   ],
   "metadata": {
    "collapsed": false,
    "ExecuteTime": {
     "start_time": "2024-02-26T01:35:16.160151Z",
     "end_time": "2024-02-26T01:35:16.350574Z"
    }
   }
  },
  {
   "cell_type": "code",
   "execution_count": null,
   "outputs": [],
   "source": [],
   "metadata": {
    "collapsed": false
   }
  }
 ],
 "metadata": {
  "kernelspec": {
   "display_name": "Python 3",
   "language": "python",
   "name": "python3"
  },
  "language_info": {
   "codemirror_mode": {
    "name": "ipython",
    "version": 2
   },
   "file_extension": ".py",
   "mimetype": "text/x-python",
   "name": "python",
   "nbconvert_exporter": "python",
   "pygments_lexer": "ipython2",
   "version": "2.7.6"
  }
 },
 "nbformat": 4,
 "nbformat_minor": 0
}
